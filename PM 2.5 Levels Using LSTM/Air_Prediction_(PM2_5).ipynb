{
 "cells": [
  {
   "cell_type": "markdown",
   "metadata": {
    "id": "4JtQphbZkrWB"
   },
   "source": [
    "# Importing Basic Libraries"
   ]
  },
  {
   "cell_type": "code",
   "execution_count": 1,
   "metadata": {
    "_cell_guid": "79c7e3d0-c299-4dcb-8224-4455121ee9b0",
    "_uuid": "d629ff2d2480ee46fbb7e2d37f6b5fab8052498a",
    "execution": {
     "iopub.execute_input": "2021-11-29T17:34:50.992143Z",
     "iopub.status.busy": "2021-11-29T17:34:50.991755Z",
     "iopub.status.idle": "2021-11-29T17:34:51.002187Z",
     "shell.execute_reply": "2021-11-29T17:34:51.000654Z",
     "shell.execute_reply.started": "2021-11-29T17:34:50.992113Z"
    },
    "id": "7j6cdvu1krWP"
   },
   "outputs": [],
   "source": [
    "import datetime\n",
    "import numpy as np\n",
    "import pandas as pd\n",
    "from tensorflow import keras\n",
    "import matplotlib.pyplot as plt\n",
    "from tensorflow.keras import layers\n",
    "%matplotlib inline\n",
    "\n",
    "# Setting environment to ignore future warnings\n",
    "import warnings\n",
    "warnings.simplefilter ( 'ignore' )"
   ]
  },
  {
   "cell_type": "markdown",
   "metadata": {
    "id": "OvHoCF_akrWR"
   },
   "source": [
    "## Loading Data And Exploration"
   ]
  },
  {
   "cell_type": "code",
   "execution_count": 2,
   "metadata": {
    "colab": {
     "base_uri": "https://localhost:8080/",
     "height": 206
    },
    "execution": {
     "iopub.execute_input": "2021-11-29T17:34:51.010216Z",
     "iopub.status.busy": "2021-11-29T17:34:51.009390Z",
     "iopub.status.idle": "2021-11-29T17:34:51.087727Z",
     "shell.execute_reply": "2021-11-29T17:34:51.085539Z",
     "shell.execute_reply.started": "2021-11-29T17:34:51.010175Z"
    },
    "id": "iAkF517fkrWT",
    "outputId": "3d27bb65-27cf-4794-eb8b-892a595a2b9f"
   },
   "outputs": [
    {
     "data": {
      "text/html": [
       "<div>\n",
       "<style scoped>\n",
       "    .dataframe tbody tr th:only-of-type {\n",
       "        vertical-align: middle;\n",
       "    }\n",
       "\n",
       "    .dataframe tbody tr th {\n",
       "        vertical-align: top;\n",
       "    }\n",
       "\n",
       "    .dataframe thead th {\n",
       "        text-align: right;\n",
       "    }\n",
       "</style>\n",
       "<table border=\"1\" class=\"dataframe\">\n",
       "  <thead>\n",
       "    <tr style=\"text-align: right;\">\n",
       "      <th></th>\n",
       "      <th>No</th>\n",
       "      <th>year</th>\n",
       "      <th>month</th>\n",
       "      <th>day</th>\n",
       "      <th>hour</th>\n",
       "      <th>pm2.5</th>\n",
       "      <th>DEWP</th>\n",
       "      <th>TEMP</th>\n",
       "      <th>PRES</th>\n",
       "      <th>cbwd</th>\n",
       "      <th>Iws</th>\n",
       "      <th>Is</th>\n",
       "      <th>Ir</th>\n",
       "    </tr>\n",
       "  </thead>\n",
       "  <tbody>\n",
       "    <tr>\n",
       "      <th>0</th>\n",
       "      <td>1</td>\n",
       "      <td>2010</td>\n",
       "      <td>1</td>\n",
       "      <td>1</td>\n",
       "      <td>0</td>\n",
       "      <td>NaN</td>\n",
       "      <td>-21</td>\n",
       "      <td>-11.0</td>\n",
       "      <td>1021.0</td>\n",
       "      <td>NW</td>\n",
       "      <td>1.79</td>\n",
       "      <td>0</td>\n",
       "      <td>0</td>\n",
       "    </tr>\n",
       "    <tr>\n",
       "      <th>1</th>\n",
       "      <td>2</td>\n",
       "      <td>2010</td>\n",
       "      <td>1</td>\n",
       "      <td>1</td>\n",
       "      <td>1</td>\n",
       "      <td>NaN</td>\n",
       "      <td>-21</td>\n",
       "      <td>-12.0</td>\n",
       "      <td>1020.0</td>\n",
       "      <td>NW</td>\n",
       "      <td>4.92</td>\n",
       "      <td>0</td>\n",
       "      <td>0</td>\n",
       "    </tr>\n",
       "    <tr>\n",
       "      <th>2</th>\n",
       "      <td>3</td>\n",
       "      <td>2010</td>\n",
       "      <td>1</td>\n",
       "      <td>1</td>\n",
       "      <td>2</td>\n",
       "      <td>NaN</td>\n",
       "      <td>-21</td>\n",
       "      <td>-11.0</td>\n",
       "      <td>1019.0</td>\n",
       "      <td>NW</td>\n",
       "      <td>6.71</td>\n",
       "      <td>0</td>\n",
       "      <td>0</td>\n",
       "    </tr>\n",
       "    <tr>\n",
       "      <th>3</th>\n",
       "      <td>4</td>\n",
       "      <td>2010</td>\n",
       "      <td>1</td>\n",
       "      <td>1</td>\n",
       "      <td>3</td>\n",
       "      <td>NaN</td>\n",
       "      <td>-21</td>\n",
       "      <td>-14.0</td>\n",
       "      <td>1019.0</td>\n",
       "      <td>NW</td>\n",
       "      <td>9.84</td>\n",
       "      <td>0</td>\n",
       "      <td>0</td>\n",
       "    </tr>\n",
       "    <tr>\n",
       "      <th>4</th>\n",
       "      <td>5</td>\n",
       "      <td>2010</td>\n",
       "      <td>1</td>\n",
       "      <td>1</td>\n",
       "      <td>4</td>\n",
       "      <td>NaN</td>\n",
       "      <td>-20</td>\n",
       "      <td>-12.0</td>\n",
       "      <td>1018.0</td>\n",
       "      <td>NW</td>\n",
       "      <td>12.97</td>\n",
       "      <td>0</td>\n",
       "      <td>0</td>\n",
       "    </tr>\n",
       "  </tbody>\n",
       "</table>\n",
       "</div>"
      ],
      "text/plain": [
       "   No  year  month  day  hour  pm2.5  DEWP  TEMP    PRES cbwd    Iws  Is  Ir\n",
       "0   1  2010      1    1     0    NaN   -21 -11.0  1021.0   NW   1.79   0   0\n",
       "1   2  2010      1    1     1    NaN   -21 -12.0  1020.0   NW   4.92   0   0\n",
       "2   3  2010      1    1     2    NaN   -21 -11.0  1019.0   NW   6.71   0   0\n",
       "3   4  2010      1    1     3    NaN   -21 -14.0  1019.0   NW   9.84   0   0\n",
       "4   5  2010      1    1     4    NaN   -20 -12.0  1018.0   NW  12.97   0   0"
      ]
     },
     "execution_count": 2,
     "metadata": {},
     "output_type": "execute_result"
    }
   ],
   "source": [
    "# Loading data using pandas library\n",
    "df = pd.read_csv(\"air_polution_data.csv\")\n",
    "\n",
    "# Printing first 5 rows of data\n",
    "df.head()"
   ]
  },
  {
   "cell_type": "code",
   "execution_count": 3,
   "metadata": {
    "colab": {
     "base_uri": "https://localhost:8080/"
    },
    "execution": {
     "iopub.execute_input": "2021-11-29T17:34:51.090878Z",
     "iopub.status.busy": "2021-11-29T17:34:51.090293Z",
     "iopub.status.idle": "2021-11-29T17:34:51.099216Z",
     "shell.execute_reply": "2021-11-29T17:34:51.097700Z",
     "shell.execute_reply.started": "2021-11-29T17:34:51.090814Z"
    },
    "id": "rLf1m773krWV",
    "outputId": "fefc6dfe-7eda-40db-c214-8641ea6d24e9"
   },
   "outputs": [
    {
     "data": {
      "text/plain": [
       "(43824, 13)"
      ]
     },
     "execution_count": 3,
     "metadata": {},
     "output_type": "execute_result"
    }
   ],
   "source": [
    "# Printing shape of data\n",
    "df.shape"
   ]
  },
  {
   "cell_type": "markdown",
   "metadata": {
    "id": "7LnjGv4ekrWW"
   },
   "source": [
    "We can see dataset has **43824** rows and **13** columns in it."
   ]
  },
  {
   "cell_type": "code",
   "execution_count": 4,
   "metadata": {
    "colab": {
     "base_uri": "https://localhost:8080/"
    },
    "execution": {
     "iopub.execute_input": "2021-11-29T17:34:51.102031Z",
     "iopub.status.busy": "2021-11-29T17:34:51.101185Z",
     "iopub.status.idle": "2021-11-29T17:34:51.126950Z",
     "shell.execute_reply": "2021-11-29T17:34:51.126015Z",
     "shell.execute_reply.started": "2021-11-29T17:34:51.101978Z"
    },
    "id": "ct6dzo08krWX",
    "outputId": "c433856a-d597-4290-fee2-ef58f9d4ef4c"
   },
   "outputs": [
    {
     "name": "stdout",
     "output_type": "stream",
     "text": [
      "<class 'pandas.core.frame.DataFrame'>\n",
      "RangeIndex: 43824 entries, 0 to 43823\n",
      "Data columns (total 13 columns):\n",
      " #   Column  Non-Null Count  Dtype  \n",
      "---  ------  --------------  -----  \n",
      " 0   No      43824 non-null  int64  \n",
      " 1   year    43824 non-null  int64  \n",
      " 2   month   43824 non-null  int64  \n",
      " 3   day     43824 non-null  int64  \n",
      " 4   hour    43824 non-null  int64  \n",
      " 5   pm2.5   41757 non-null  float64\n",
      " 6   DEWP    43824 non-null  int64  \n",
      " 7   TEMP    43824 non-null  float64\n",
      " 8   PRES    43824 non-null  float64\n",
      " 9   cbwd    43824 non-null  object \n",
      " 10  Iws     43824 non-null  float64\n",
      " 11  Is      43824 non-null  int64  \n",
      " 12  Ir      43824 non-null  int64  \n",
      "dtypes: float64(4), int64(8), object(1)\n",
      "memory usage: 4.3+ MB\n"
     ]
    }
   ],
   "source": [
    "# Checking info of data including datatypes, non null values, size of dataset\n",
    "df.info()"
   ]
  },
  {
   "cell_type": "code",
   "execution_count": 5,
   "metadata": {
    "colab": {
     "base_uri": "https://localhost:8080/",
     "height": 320
    },
    "execution": {
     "iopub.execute_input": "2021-11-29T17:34:51.130245Z",
     "iopub.status.busy": "2021-11-29T17:34:51.129590Z",
     "iopub.status.idle": "2021-11-29T17:34:51.197097Z",
     "shell.execute_reply": "2021-11-29T17:34:51.195764Z",
     "shell.execute_reply.started": "2021-11-29T17:34:51.130200Z"
    },
    "id": "PbiEbVgXkrWY",
    "outputId": "60d829fd-275a-4777-bc13-70c6b9367a3c"
   },
   "outputs": [
    {
     "data": {
      "text/html": [
       "<div>\n",
       "<style scoped>\n",
       "    .dataframe tbody tr th:only-of-type {\n",
       "        vertical-align: middle;\n",
       "    }\n",
       "\n",
       "    .dataframe tbody tr th {\n",
       "        vertical-align: top;\n",
       "    }\n",
       "\n",
       "    .dataframe thead th {\n",
       "        text-align: right;\n",
       "    }\n",
       "</style>\n",
       "<table border=\"1\" class=\"dataframe\">\n",
       "  <thead>\n",
       "    <tr style=\"text-align: right;\">\n",
       "      <th></th>\n",
       "      <th>No</th>\n",
       "      <th>year</th>\n",
       "      <th>month</th>\n",
       "      <th>day</th>\n",
       "      <th>hour</th>\n",
       "      <th>pm2.5</th>\n",
       "      <th>DEWP</th>\n",
       "      <th>TEMP</th>\n",
       "      <th>PRES</th>\n",
       "      <th>Iws</th>\n",
       "      <th>Is</th>\n",
       "      <th>Ir</th>\n",
       "    </tr>\n",
       "  </thead>\n",
       "  <tbody>\n",
       "    <tr>\n",
       "      <th>count</th>\n",
       "      <td>43824.000000</td>\n",
       "      <td>43824.000000</td>\n",
       "      <td>43824.000000</td>\n",
       "      <td>43824.000000</td>\n",
       "      <td>43824.000000</td>\n",
       "      <td>41757.000000</td>\n",
       "      <td>43824.000000</td>\n",
       "      <td>43824.000000</td>\n",
       "      <td>43824.000000</td>\n",
       "      <td>43824.000000</td>\n",
       "      <td>43824.000000</td>\n",
       "      <td>43824.000000</td>\n",
       "    </tr>\n",
       "    <tr>\n",
       "      <th>mean</th>\n",
       "      <td>21912.500000</td>\n",
       "      <td>2012.000000</td>\n",
       "      <td>6.523549</td>\n",
       "      <td>15.727820</td>\n",
       "      <td>11.500000</td>\n",
       "      <td>98.613215</td>\n",
       "      <td>1.817246</td>\n",
       "      <td>12.448521</td>\n",
       "      <td>1016.447654</td>\n",
       "      <td>23.889140</td>\n",
       "      <td>0.052734</td>\n",
       "      <td>0.194916</td>\n",
       "    </tr>\n",
       "    <tr>\n",
       "      <th>std</th>\n",
       "      <td>12651.043435</td>\n",
       "      <td>1.413842</td>\n",
       "      <td>3.448572</td>\n",
       "      <td>8.799425</td>\n",
       "      <td>6.922266</td>\n",
       "      <td>92.050387</td>\n",
       "      <td>14.433440</td>\n",
       "      <td>12.198613</td>\n",
       "      <td>10.268698</td>\n",
       "      <td>50.010635</td>\n",
       "      <td>0.760375</td>\n",
       "      <td>1.415867</td>\n",
       "    </tr>\n",
       "    <tr>\n",
       "      <th>min</th>\n",
       "      <td>1.000000</td>\n",
       "      <td>2010.000000</td>\n",
       "      <td>1.000000</td>\n",
       "      <td>1.000000</td>\n",
       "      <td>0.000000</td>\n",
       "      <td>0.000000</td>\n",
       "      <td>-40.000000</td>\n",
       "      <td>-19.000000</td>\n",
       "      <td>991.000000</td>\n",
       "      <td>0.450000</td>\n",
       "      <td>0.000000</td>\n",
       "      <td>0.000000</td>\n",
       "    </tr>\n",
       "    <tr>\n",
       "      <th>25%</th>\n",
       "      <td>10956.750000</td>\n",
       "      <td>2011.000000</td>\n",
       "      <td>4.000000</td>\n",
       "      <td>8.000000</td>\n",
       "      <td>5.750000</td>\n",
       "      <td>29.000000</td>\n",
       "      <td>-10.000000</td>\n",
       "      <td>2.000000</td>\n",
       "      <td>1008.000000</td>\n",
       "      <td>1.790000</td>\n",
       "      <td>0.000000</td>\n",
       "      <td>0.000000</td>\n",
       "    </tr>\n",
       "    <tr>\n",
       "      <th>50%</th>\n",
       "      <td>21912.500000</td>\n",
       "      <td>2012.000000</td>\n",
       "      <td>7.000000</td>\n",
       "      <td>16.000000</td>\n",
       "      <td>11.500000</td>\n",
       "      <td>72.000000</td>\n",
       "      <td>2.000000</td>\n",
       "      <td>14.000000</td>\n",
       "      <td>1016.000000</td>\n",
       "      <td>5.370000</td>\n",
       "      <td>0.000000</td>\n",
       "      <td>0.000000</td>\n",
       "    </tr>\n",
       "    <tr>\n",
       "      <th>75%</th>\n",
       "      <td>32868.250000</td>\n",
       "      <td>2013.000000</td>\n",
       "      <td>10.000000</td>\n",
       "      <td>23.000000</td>\n",
       "      <td>17.250000</td>\n",
       "      <td>137.000000</td>\n",
       "      <td>15.000000</td>\n",
       "      <td>23.000000</td>\n",
       "      <td>1025.000000</td>\n",
       "      <td>21.910000</td>\n",
       "      <td>0.000000</td>\n",
       "      <td>0.000000</td>\n",
       "    </tr>\n",
       "    <tr>\n",
       "      <th>max</th>\n",
       "      <td>43824.000000</td>\n",
       "      <td>2014.000000</td>\n",
       "      <td>12.000000</td>\n",
       "      <td>31.000000</td>\n",
       "      <td>23.000000</td>\n",
       "      <td>994.000000</td>\n",
       "      <td>28.000000</td>\n",
       "      <td>42.000000</td>\n",
       "      <td>1046.000000</td>\n",
       "      <td>585.600000</td>\n",
       "      <td>27.000000</td>\n",
       "      <td>36.000000</td>\n",
       "    </tr>\n",
       "  </tbody>\n",
       "</table>\n",
       "</div>"
      ],
      "text/plain": [
       "                 No          year         month           day          hour  \\\n",
       "count  43824.000000  43824.000000  43824.000000  43824.000000  43824.000000   \n",
       "mean   21912.500000   2012.000000      6.523549     15.727820     11.500000   \n",
       "std    12651.043435      1.413842      3.448572      8.799425      6.922266   \n",
       "min        1.000000   2010.000000      1.000000      1.000000      0.000000   \n",
       "25%    10956.750000   2011.000000      4.000000      8.000000      5.750000   \n",
       "50%    21912.500000   2012.000000      7.000000     16.000000     11.500000   \n",
       "75%    32868.250000   2013.000000     10.000000     23.000000     17.250000   \n",
       "max    43824.000000   2014.000000     12.000000     31.000000     23.000000   \n",
       "\n",
       "              pm2.5          DEWP          TEMP          PRES           Iws  \\\n",
       "count  41757.000000  43824.000000  43824.000000  43824.000000  43824.000000   \n",
       "mean      98.613215      1.817246     12.448521   1016.447654     23.889140   \n",
       "std       92.050387     14.433440     12.198613     10.268698     50.010635   \n",
       "min        0.000000    -40.000000    -19.000000    991.000000      0.450000   \n",
       "25%       29.000000    -10.000000      2.000000   1008.000000      1.790000   \n",
       "50%       72.000000      2.000000     14.000000   1016.000000      5.370000   \n",
       "75%      137.000000     15.000000     23.000000   1025.000000     21.910000   \n",
       "max      994.000000     28.000000     42.000000   1046.000000    585.600000   \n",
       "\n",
       "                 Is            Ir  \n",
       "count  43824.000000  43824.000000  \n",
       "mean       0.052734      0.194916  \n",
       "std        0.760375      1.415867  \n",
       "min        0.000000      0.000000  \n",
       "25%        0.000000      0.000000  \n",
       "50%        0.000000      0.000000  \n",
       "75%        0.000000      0.000000  \n",
       "max       27.000000     36.000000  "
      ]
     },
     "execution_count": 5,
     "metadata": {},
     "output_type": "execute_result"
    }
   ],
   "source": [
    "# Printing statistical properties of data\n",
    "df.describe()"
   ]
  },
  {
   "cell_type": "code",
   "execution_count": 6,
   "metadata": {
    "colab": {
     "base_uri": "https://localhost:8080/"
    },
    "execution": {
     "iopub.execute_input": "2021-11-29T17:34:51.200469Z",
     "iopub.status.busy": "2021-11-29T17:34:51.199991Z",
     "iopub.status.idle": "2021-11-29T17:34:51.212102Z",
     "shell.execute_reply": "2021-11-29T17:34:51.210946Z",
     "shell.execute_reply.started": "2021-11-29T17:34:51.200414Z"
    },
    "id": "BV636EU-krWZ",
    "outputId": "13f4aaab-ea73-44ba-9394-2ca645fb4add"
   },
   "outputs": [
    {
     "name": "stdout",
     "output_type": "stream",
     "text": [
      "Dataset has following columns...\n",
      " 1) No\n",
      " 2) year\n",
      " 3) month\n",
      " 4) day\n",
      " 5) hour\n",
      " 6) pm2.5\n",
      " 7) DEWP\n",
      " 8) TEMP\n",
      " 9) PRES\n",
      " 10) cbwd\n",
      " 11) Iws\n",
      " 12) Is\n",
      " 13) Ir\n"
     ]
    }
   ],
   "source": [
    "# Printing the name of columns\n",
    "print(\"Dataset has following columns...\")\n",
    "for i, j in enumerate(df.columns):\n",
    "    print(f\" {i+1}) {j}\")"
   ]
  },
  {
   "cell_type": "markdown",
   "metadata": {
    "id": "xiLimV-jkrWa"
   },
   "source": [
    "# Data Preprocessing"
   ]
  },
  {
   "cell_type": "code",
   "execution_count": 7,
   "metadata": {
    "execution": {
     "iopub.execute_input": "2021-11-29T17:34:51.214696Z",
     "iopub.status.busy": "2021-11-29T17:34:51.214389Z",
     "iopub.status.idle": "2021-11-29T17:34:51.229522Z",
     "shell.execute_reply": "2021-11-29T17:34:51.228491Z",
     "shell.execute_reply.started": "2021-11-29T17:34:51.214666Z"
    },
    "id": "8z5oXHV8krWd"
   },
   "outputs": [],
   "source": [
    "# lets try to check the percentage of missing values,unique values,percentage of one catagory values and type against each column.\n",
    "def statistics(df):\n",
    "    stats = []\n",
    "    for col in df.columns:\n",
    "        stats.append((col, df[col].nunique(), df[col].isnull().sum(), df[col].isnull().sum() * 100 / df.shape[0], df[col].dtype))\n",
    "\n",
    "    stats_df = pd.DataFrame(stats, columns=['Feature', 'Unique_values', 'Missing values', 'Percentage of Missing Values', 'Data Type'])\n",
    "    stats_df.set_index('Feature', drop=True, inplace=True)\n",
    "    stats_df.drop(stats_df[stats_df['Missing values'] == 0].index, axis=0, inplace=True)\n",
    "    stats_df.sort_values('Percentage of Missing Values', ascending=False, inplace=True)\n",
    "    return stats_df"
   ]
  },
  {
   "cell_type": "markdown",
   "metadata": {
    "id": "0YLx0E-IkrWf"
   },
   "source": [
    "Here I made a function that will take a dataframe and then it will iterate it column by column. During each iteration it is calculating Unique, Mising, Percentage of missing, and data type of each column and appending it inot a list that is converted inot data frmae at the end."
   ]
  },
  {
   "cell_type": "code",
   "execution_count": 8,
   "metadata": {
    "colab": {
     "base_uri": "https://localhost:8080/",
     "height": 112
    },
    "execution": {
     "iopub.execute_input": "2021-11-29T17:34:51.232381Z",
     "iopub.status.busy": "2021-11-29T17:34:51.231874Z",
     "iopub.status.idle": "2021-11-29T17:34:51.280066Z",
     "shell.execute_reply": "2021-11-29T17:34:51.278573Z",
     "shell.execute_reply.started": "2021-11-29T17:34:51.232332Z"
    },
    "id": "8Xx5bSWekrWf",
    "outputId": "c55c74ef-a17b-4671-bb21-c100fbf38ff8"
   },
   "outputs": [
    {
     "data": {
      "text/html": [
       "<div>\n",
       "<style scoped>\n",
       "    .dataframe tbody tr th:only-of-type {\n",
       "        vertical-align: middle;\n",
       "    }\n",
       "\n",
       "    .dataframe tbody tr th {\n",
       "        vertical-align: top;\n",
       "    }\n",
       "\n",
       "    .dataframe thead th {\n",
       "        text-align: right;\n",
       "    }\n",
       "</style>\n",
       "<table border=\"1\" class=\"dataframe\">\n",
       "  <thead>\n",
       "    <tr style=\"text-align: right;\">\n",
       "      <th></th>\n",
       "      <th>Unique_values</th>\n",
       "      <th>Missing values</th>\n",
       "      <th>Percentage of Missing Values</th>\n",
       "      <th>Data Type</th>\n",
       "    </tr>\n",
       "    <tr>\n",
       "      <th>Feature</th>\n",
       "      <th></th>\n",
       "      <th></th>\n",
       "      <th></th>\n",
       "      <th></th>\n",
       "    </tr>\n",
       "  </thead>\n",
       "  <tbody>\n",
       "    <tr>\n",
       "      <th>pm2.5</th>\n",
       "      <td>581</td>\n",
       "      <td>2067</td>\n",
       "      <td>4.716594</td>\n",
       "      <td>float64</td>\n",
       "    </tr>\n",
       "  </tbody>\n",
       "</table>\n",
       "</div>"
      ],
      "text/plain": [
       "         Unique_values  Missing values  Percentage of Missing Values Data Type\n",
       "Feature                                                                       \n",
       "pm2.5              581            2067                      4.716594   float64"
      ]
     },
     "execution_count": 8,
     "metadata": {},
     "output_type": "execute_result"
    }
   ],
   "source": [
    "statistics(df)"
   ]
  },
  {
   "cell_type": "markdown",
   "metadata": {
    "id": "1bvqIT4HkrWg"
   },
   "source": [
    "Here we can see that there **4.7%** null values are present in one column **pm2.5** of dataset.\n",
    "\n",
    "Let's handle these null values."
   ]
  },
  {
   "cell_type": "code",
   "execution_count": 9,
   "metadata": {
    "colab": {
     "base_uri": "https://localhost:8080/"
    },
    "execution": {
     "iopub.execute_input": "2021-11-29T16:48:06.984743Z",
     "iopub.status.busy": "2021-11-29T16:48:06.984121Z",
     "iopub.status.idle": "2021-11-29T16:48:07.006434Z",
     "shell.execute_reply": "2021-11-29T16:48:07.005093Z",
     "shell.execute_reply.started": "2021-11-29T16:48:06.984707Z"
    },
    "id": "cUu74P2bkrWg",
    "outputId": "f21b2e20-309a-43d2-8e2d-d99ced8fc3f8"
   },
   "outputs": [
    {
     "data": {
      "text/plain": [
       "0"
      ]
     },
     "execution_count": 9,
     "metadata": {},
     "output_type": "execute_result"
    }
   ],
   "source": [
    "# First 24 rows have pm2.5 values are none so we'll just discard them and remaining will be filled with forward filling\n",
    "df = df[24:].fillna(method='ffill')\n",
    "df['pm2.5'].isna().sum()"
   ]
  },
  {
   "cell_type": "markdown",
   "metadata": {
    "id": "WIPOjH04krWh"
   },
   "source": [
    "Now we can see there are no null values in **pm2.5** column."
   ]
  },
  {
   "cell_type": "code",
   "execution_count": 10,
   "metadata": {
    "colab": {
     "base_uri": "https://localhost:8080/",
     "height": 238
    },
    "execution": {
     "iopub.execute_input": "2021-11-29T16:48:07.009018Z",
     "iopub.status.busy": "2021-11-29T16:48:07.008218Z",
     "iopub.status.idle": "2021-11-29T16:48:08.724691Z",
     "shell.execute_reply": "2021-11-29T16:48:08.723724Z",
     "shell.execute_reply.started": "2021-11-29T16:48:07.008938Z"
    },
    "id": "QN87Boo1krWh",
    "outputId": "e0b96c88-7a3a-41e7-9a13-7c064dd1e713"
   },
   "outputs": [
    {
     "data": {
      "text/html": [
       "<div>\n",
       "<style scoped>\n",
       "    .dataframe tbody tr th:only-of-type {\n",
       "        vertical-align: middle;\n",
       "    }\n",
       "\n",
       "    .dataframe tbody tr th {\n",
       "        vertical-align: top;\n",
       "    }\n",
       "\n",
       "    .dataframe thead th {\n",
       "        text-align: right;\n",
       "    }\n",
       "</style>\n",
       "<table border=\"1\" class=\"dataframe\">\n",
       "  <thead>\n",
       "    <tr style=\"text-align: right;\">\n",
       "      <th></th>\n",
       "      <th>pm2.5</th>\n",
       "      <th>DEWP</th>\n",
       "      <th>TEMP</th>\n",
       "      <th>PRES</th>\n",
       "      <th>cbwd</th>\n",
       "      <th>Iws</th>\n",
       "      <th>Is</th>\n",
       "      <th>Ir</th>\n",
       "    </tr>\n",
       "    <tr>\n",
       "      <th>time</th>\n",
       "      <th></th>\n",
       "      <th></th>\n",
       "      <th></th>\n",
       "      <th></th>\n",
       "      <th></th>\n",
       "      <th></th>\n",
       "      <th></th>\n",
       "      <th></th>\n",
       "    </tr>\n",
       "  </thead>\n",
       "  <tbody>\n",
       "    <tr>\n",
       "      <th>2010-01-02 00:00:00</th>\n",
       "      <td>129.0</td>\n",
       "      <td>-16</td>\n",
       "      <td>-4.0</td>\n",
       "      <td>1020.0</td>\n",
       "      <td>SE</td>\n",
       "      <td>1.79</td>\n",
       "      <td>0</td>\n",
       "      <td>0</td>\n",
       "    </tr>\n",
       "    <tr>\n",
       "      <th>2010-01-02 01:00:00</th>\n",
       "      <td>148.0</td>\n",
       "      <td>-15</td>\n",
       "      <td>-4.0</td>\n",
       "      <td>1020.0</td>\n",
       "      <td>SE</td>\n",
       "      <td>2.68</td>\n",
       "      <td>0</td>\n",
       "      <td>0</td>\n",
       "    </tr>\n",
       "    <tr>\n",
       "      <th>2010-01-02 02:00:00</th>\n",
       "      <td>159.0</td>\n",
       "      <td>-11</td>\n",
       "      <td>-5.0</td>\n",
       "      <td>1021.0</td>\n",
       "      <td>SE</td>\n",
       "      <td>3.57</td>\n",
       "      <td>0</td>\n",
       "      <td>0</td>\n",
       "    </tr>\n",
       "    <tr>\n",
       "      <th>2010-01-02 03:00:00</th>\n",
       "      <td>181.0</td>\n",
       "      <td>-7</td>\n",
       "      <td>-5.0</td>\n",
       "      <td>1022.0</td>\n",
       "      <td>SE</td>\n",
       "      <td>5.36</td>\n",
       "      <td>1</td>\n",
       "      <td>0</td>\n",
       "    </tr>\n",
       "    <tr>\n",
       "      <th>2010-01-02 04:00:00</th>\n",
       "      <td>138.0</td>\n",
       "      <td>-7</td>\n",
       "      <td>-5.0</td>\n",
       "      <td>1022.0</td>\n",
       "      <td>SE</td>\n",
       "      <td>6.25</td>\n",
       "      <td>2</td>\n",
       "      <td>0</td>\n",
       "    </tr>\n",
       "  </tbody>\n",
       "</table>\n",
       "</div>"
      ],
      "text/plain": [
       "                     pm2.5  DEWP  TEMP    PRES cbwd   Iws  Is  Ir\n",
       "time                                                             \n",
       "2010-01-02 00:00:00  129.0   -16  -4.0  1020.0   SE  1.79   0   0\n",
       "2010-01-02 01:00:00  148.0   -15  -4.0  1020.0   SE  2.68   0   0\n",
       "2010-01-02 02:00:00  159.0   -11  -5.0  1021.0   SE  3.57   0   0\n",
       "2010-01-02 03:00:00  181.0    -7  -5.0  1022.0   SE  5.36   1   0\n",
       "2010-01-02 04:00:00  138.0    -7  -5.0  1022.0   SE  6.25   2   0"
      ]
     },
     "execution_count": 10,
     "metadata": {},
     "output_type": "execute_result"
    }
   ],
   "source": [
    "# Combining year, month, day into single column date\n",
    "df['time'] = df.apply(lambda x : datetime.datetime(year=x['year'], month=x['month'], day=x['day'], hour=x['hour']), axis=1)\n",
    "\n",
    "# Dropping original separate data features\n",
    "df.drop(columns=['year', 'month', 'day', 'hour', 'No'], inplace=True)\n",
    "\n",
    "# Setting date as index of dataset\n",
    "df = df.set_index('time')\n",
    "df.head()"
   ]
  },
  {
   "cell_type": "code",
   "execution_count": 11,
   "metadata": {
    "colab": {
     "base_uri": "https://localhost:8080/"
    },
    "execution": {
     "iopub.execute_input": "2021-11-29T16:48:08.728464Z",
     "iopub.status.busy": "2021-11-29T16:48:08.727742Z",
     "iopub.status.idle": "2021-11-29T16:48:08.741363Z",
     "shell.execute_reply": "2021-11-29T16:48:08.740222Z",
     "shell.execute_reply.started": "2021-11-29T16:48:08.728414Z"
    },
    "id": "pT6Y4UfgkrWi",
    "outputId": "360c0628-292e-46ad-be06-2af611491faa"
   },
   "outputs": [
    {
     "data": {
      "text/plain": [
       "array(['SE', 'cv', 'NW', 'NE'], dtype=object)"
      ]
     },
     "execution_count": 11,
     "metadata": {},
     "output_type": "execute_result"
    }
   ],
   "source": [
    "# Let's check unique values in cbwd column\n",
    "df['cbwd'].unique()"
   ]
  },
  {
   "cell_type": "markdown",
   "metadata": {
    "id": "N-hSFkPEkrWj"
   },
   "source": [
    "We have a categorical variable and it has to convert into integr because models only work with numerical data so to convert it inot integers i used One Hot Encoding ."
   ]
  },
  {
   "cell_type": "code",
   "execution_count": 12,
   "metadata": {
    "colab": {
     "base_uri": "https://localhost:8080/",
     "height": 238
    },
    "execution": {
     "iopub.execute_input": "2021-11-29T16:48:08.743995Z",
     "iopub.status.busy": "2021-11-29T16:48:08.743396Z",
     "iopub.status.idle": "2021-11-29T16:48:08.779295Z",
     "shell.execute_reply": "2021-11-29T16:48:08.778119Z",
     "shell.execute_reply.started": "2021-11-29T16:48:08.743898Z"
    },
    "id": "7ZJMwbT2krWj",
    "outputId": "04b27bc1-32ef-4efb-dead-d603cb5dc3ea"
   },
   "outputs": [
    {
     "data": {
      "text/html": [
       "<div>\n",
       "<style scoped>\n",
       "    .dataframe tbody tr th:only-of-type {\n",
       "        vertical-align: middle;\n",
       "    }\n",
       "\n",
       "    .dataframe tbody tr th {\n",
       "        vertical-align: top;\n",
       "    }\n",
       "\n",
       "    .dataframe thead th {\n",
       "        text-align: right;\n",
       "    }\n",
       "</style>\n",
       "<table border=\"1\" class=\"dataframe\">\n",
       "  <thead>\n",
       "    <tr style=\"text-align: right;\">\n",
       "      <th></th>\n",
       "      <th>pm2.5</th>\n",
       "      <th>DEWP</th>\n",
       "      <th>TEMP</th>\n",
       "      <th>PRES</th>\n",
       "      <th>Iws</th>\n",
       "      <th>Is</th>\n",
       "      <th>Ir</th>\n",
       "      <th>NE</th>\n",
       "      <th>NW</th>\n",
       "      <th>SE</th>\n",
       "      <th>cv</th>\n",
       "    </tr>\n",
       "    <tr>\n",
       "      <th>time</th>\n",
       "      <th></th>\n",
       "      <th></th>\n",
       "      <th></th>\n",
       "      <th></th>\n",
       "      <th></th>\n",
       "      <th></th>\n",
       "      <th></th>\n",
       "      <th></th>\n",
       "      <th></th>\n",
       "      <th></th>\n",
       "      <th></th>\n",
       "    </tr>\n",
       "  </thead>\n",
       "  <tbody>\n",
       "    <tr>\n",
       "      <th>2010-01-02 00:00:00</th>\n",
       "      <td>129.0</td>\n",
       "      <td>-16</td>\n",
       "      <td>-4.0</td>\n",
       "      <td>1020.0</td>\n",
       "      <td>1.79</td>\n",
       "      <td>0</td>\n",
       "      <td>0</td>\n",
       "      <td>0</td>\n",
       "      <td>0</td>\n",
       "      <td>1</td>\n",
       "      <td>0</td>\n",
       "    </tr>\n",
       "    <tr>\n",
       "      <th>2010-01-02 01:00:00</th>\n",
       "      <td>148.0</td>\n",
       "      <td>-15</td>\n",
       "      <td>-4.0</td>\n",
       "      <td>1020.0</td>\n",
       "      <td>2.68</td>\n",
       "      <td>0</td>\n",
       "      <td>0</td>\n",
       "      <td>0</td>\n",
       "      <td>0</td>\n",
       "      <td>1</td>\n",
       "      <td>0</td>\n",
       "    </tr>\n",
       "    <tr>\n",
       "      <th>2010-01-02 02:00:00</th>\n",
       "      <td>159.0</td>\n",
       "      <td>-11</td>\n",
       "      <td>-5.0</td>\n",
       "      <td>1021.0</td>\n",
       "      <td>3.57</td>\n",
       "      <td>0</td>\n",
       "      <td>0</td>\n",
       "      <td>0</td>\n",
       "      <td>0</td>\n",
       "      <td>1</td>\n",
       "      <td>0</td>\n",
       "    </tr>\n",
       "    <tr>\n",
       "      <th>2010-01-02 03:00:00</th>\n",
       "      <td>181.0</td>\n",
       "      <td>-7</td>\n",
       "      <td>-5.0</td>\n",
       "      <td>1022.0</td>\n",
       "      <td>5.36</td>\n",
       "      <td>1</td>\n",
       "      <td>0</td>\n",
       "      <td>0</td>\n",
       "      <td>0</td>\n",
       "      <td>1</td>\n",
       "      <td>0</td>\n",
       "    </tr>\n",
       "    <tr>\n",
       "      <th>2010-01-02 04:00:00</th>\n",
       "      <td>138.0</td>\n",
       "      <td>-7</td>\n",
       "      <td>-5.0</td>\n",
       "      <td>1022.0</td>\n",
       "      <td>6.25</td>\n",
       "      <td>2</td>\n",
       "      <td>0</td>\n",
       "      <td>0</td>\n",
       "      <td>0</td>\n",
       "      <td>1</td>\n",
       "      <td>0</td>\n",
       "    </tr>\n",
       "  </tbody>\n",
       "</table>\n",
       "</div>"
      ],
      "text/plain": [
       "                     pm2.5  DEWP  TEMP    PRES   Iws  Is  Ir  NE  NW  SE  cv\n",
       "time                                                                        \n",
       "2010-01-02 00:00:00  129.0   -16  -4.0  1020.0  1.79   0   0   0   0   1   0\n",
       "2010-01-02 01:00:00  148.0   -15  -4.0  1020.0  2.68   0   0   0   0   1   0\n",
       "2010-01-02 02:00:00  159.0   -11  -5.0  1021.0  3.57   0   0   0   0   1   0\n",
       "2010-01-02 03:00:00  181.0    -7  -5.0  1022.0  5.36   1   0   0   0   1   0\n",
       "2010-01-02 04:00:00  138.0    -7  -5.0  1022.0  6.25   2   0   0   0   1   0"
      ]
     },
     "execution_count": 12,
     "metadata": {},
     "output_type": "execute_result"
    }
   ],
   "source": [
    "# let's perform one-hot encoding cbwd column\n",
    "df = df.join(pd.get_dummies(df['cbwd']))\n",
    "\n",
    "# Deleting original cbwd column\n",
    "del df['cbwd']\n",
    "df.head()"
   ]
  },
  {
   "cell_type": "markdown",
   "metadata": {
    "id": "G0hjaP3zkrWk"
   },
   "source": [
    "Here I will plot the PM2.5 and temperature feature to get the trends and it's distribution with respect to time."
   ]
  },
  {
   "cell_type": "code",
   "execution_count": 13,
   "metadata": {
    "colab": {
     "base_uri": "https://localhost:8080/",
     "height": 369
    },
    "execution": {
     "iopub.execute_input": "2021-11-29T16:48:08.782311Z",
     "iopub.status.busy": "2021-11-29T16:48:08.781623Z",
     "iopub.status.idle": "2021-11-29T16:48:09.179850Z",
     "shell.execute_reply": "2021-11-29T16:48:09.177299Z",
     "shell.execute_reply.started": "2021-11-29T16:48:08.782262Z"
    },
    "id": "p9u0PAmFkrWk",
    "outputId": "52a2b382-b63d-48ab-9374-57f836b6bf04"
   },
   "outputs": [
    {
     "data": {
      "image/png": "[encoded data removed]",
      "text/plain": [
       "<Figure size 864x360 with 1 Axes>"
      ]
     },
     "metadata": {
      "needs_background": "light"
     },
     "output_type": "display_data"
    }
   ],
   "source": [
    "# Let''s plot pm2.5 to see it's trends\n",
    "plt.figure(figsize=(12, 5))\n",
    "df['pm2.5'][-1000:].plot()\n",
    "plt.show()"
   ]
  },
  {
   "cell_type": "code",
   "execution_count": 14,
   "metadata": {
    "colab": {
     "base_uri": "https://localhost:8080/",
     "height": 369
    },
    "execution": {
     "iopub.execute_input": "2021-11-29T16:48:09.191777Z",
     "iopub.status.busy": "2021-11-29T16:48:09.189599Z",
     "iopub.status.idle": "2021-11-29T16:48:09.745631Z",
     "shell.execute_reply": "2021-11-29T16:48:09.744344Z",
     "shell.execute_reply.started": "2021-11-29T16:48:09.191704Z"
    },
    "id": "msdgLI_4krWl",
    "outputId": "7b2d4821-6d54-4cc2-d727-55895f175a94"
   },
   "outputs": [
    {
     "data": {
      "image/png": "[encoded data removed]",
      "text/plain": [
       "<Figure size 864x360 with 1 Axes>"
      ]
     },
     "metadata": {
      "needs_background": "light"
     },
     "output_type": "display_data"
    }
   ],
   "source": [
    "# Let''s plot TEMP to see it's trends\n",
    "plt.figure(figsize=(12, 5))\n",
    "df['TEMP'][-1000:].plot()\n",
    "plt.show()"
   ]
  },
  {
   "cell_type": "markdown",
   "metadata": {
    "id": "H5yVjjDkkrWl"
   },
   "source": [
    "## Determine Parameters"
   ]
  },
  {
   "cell_type": "code",
   "execution_count": 15,
   "metadata": {
    "colab": {
     "base_uri": "https://localhost:8080/"
    },
    "execution": {
     "iopub.execute_input": "2021-11-29T16:48:09.751772Z",
     "iopub.status.busy": "2021-11-29T16:48:09.751168Z",
     "iopub.status.idle": "2021-11-29T16:48:41.409401Z",
     "shell.execute_reply": "2021-11-29T16:48:41.407982Z",
     "shell.execute_reply.started": "2021-11-29T16:48:09.751723Z"
    },
    "id": "rDf9CwnokrWm",
    "outputId": "54826920-ab5d-4a8a-ef75-51fde266f73b"
   },
   "outputs": [
    {
     "data": {
      "text/plain": [
       "(43656, 144, 11)"
      ]
     },
     "execution_count": 15,
     "metadata": {},
     "output_type": "execute_result"
    }
   ],
   "source": [
    "# Let's determine the parameters\n",
    "seq_len = 5*24 # observe the data for the past 5 days\n",
    "delay = 1*24 # predict the PM2.5 value one day after\n",
    "\n",
    "# taking out data according to determined parameters\n",
    "df_ = np.array([df.iloc[i : i + seq_len + delay].values for i in range(len(df) - seq_len - delay)])\n",
    "df_.shape"
   ]
  },
  {
   "cell_type": "code",
   "execution_count": 16,
   "metadata": {
    "colab": {
     "base_uri": "https://localhost:8080/"
    },
    "execution": {
     "iopub.execute_input": "2021-11-29T16:48:41.411705Z",
     "iopub.status.busy": "2021-11-29T16:48:41.411205Z",
     "iopub.status.idle": "2021-11-29T16:48:41.693960Z",
     "shell.execute_reply": "2021-11-29T16:48:41.692709Z",
     "shell.execute_reply.started": "2021-11-29T16:48:41.411658Z"
    },
    "id": "wyQjCGmDkrWm",
    "outputId": "b293d9d1-3cea-4ffd-cde8-75265659d954"
   },
   "outputs": [
    {
     "data": {
      "text/plain": [
       "((43656, 120, 11), (43656,))"
      ]
     },
     "execution_count": 16,
     "metadata": {},
     "output_type": "execute_result"
    }
   ],
   "source": [
    "# Spliting data into x, and y variable\n",
    "np.random.shuffle(df_)\n",
    "x = df_[:, :5*24, :]\n",
    "y = df_[:, -1, 0]\n",
    "\n",
    "# Printing shape of x and y variable\n",
    "x.shape, y.shape"
   ]
  },
  {
   "cell_type": "code",
   "execution_count": 17,
   "metadata": {
    "colab": {
     "base_uri": "https://localhost:8080/"
    },
    "execution": {
     "iopub.execute_input": "2021-11-29T16:48:41.697208Z",
     "iopub.status.busy": "2021-11-29T16:48:41.696160Z",
     "iopub.status.idle": "2021-11-29T16:48:41.711299Z",
     "shell.execute_reply": "2021-11-29T16:48:41.709776Z",
     "shell.execute_reply.started": "2021-11-29T16:48:41.697160Z"
    },
    "id": "Klfwhb1hkrWm",
    "outputId": "74d0e395-4ea0-4080-e4a6-db9eeb4243d9"
   },
   "outputs": [
    {
     "data": {
      "text/plain": [
       "array([[[149.,  -7.,  -1., ...,   1.,   0.,   0.],\n",
       "        [100.,  -6.,   0., ...,   1.,   0.,   0.],\n",
       "        [ 83.,  -8.,   2., ...,   1.,   0.,   0.],\n",
       "        ...,\n",
       "        [ 11., -27.,   0., ...,   1.,   0.,   0.],\n",
       "        [  9., -24.,   0., ...,   1.,   0.,   0.],\n",
       "        [  9., -22.,  -3., ...,   0.,   0.,   0.]],\n",
       "\n",
       "       [[264., -15.,  -5., ...,   0.,   1.,   0.],\n",
       "        [324., -16.,  -3., ...,   0.,   1.,   0.],\n",
       "        [344., -16.,  -6., ...,   1.,   0.,   0.],\n",
       "        ...,\n",
       "        [ 15., -27.,   7., ...,   1.,   0.,   0.],\n",
       "        [ 11., -28.,   5., ...,   1.,   0.,   0.],\n",
       "        [ 10., -28.,   4., ...,   1.,   0.,   0.]],\n",
       "\n",
       "       [[ 27., -16.,  -2., ...,   0.,   0.,   0.],\n",
       "        [ 21., -16.,  -2., ...,   0.,   0.,   0.],\n",
       "        [  9., -17.,  -3., ...,   0.,   0.,   0.],\n",
       "        ...,\n",
       "        [  8., -24.,  -3., ...,   1.,   0.,   0.],\n",
       "        [  5., -24.,  -5., ...,   1.,   0.,   0.],\n",
       "        [  8., -26.,  -7., ...,   1.,   0.,   0.]],\n",
       "\n",
       "       ...,\n",
       "\n",
       "       [[ 87.,  18.,  25., ...,   0.,   1.,   0.],\n",
       "        [ 91.,  18.,  24., ...,   0.,   0.,   1.],\n",
       "        [116.,  19.,  23., ...,   0.,   1.,   0.],\n",
       "        ...,\n",
       "        [212.,  22.,  25., ...,   0.,   1.,   0.],\n",
       "        [211.,  22.,  24., ...,   0.,   0.,   1.],\n",
       "        [201.,  22.,  25., ...,   0.,   0.,   1.]],\n",
       "\n",
       "       [[242., -13.,  -8., ...,   0.,   0.,   1.],\n",
       "        [249., -11.,  -5., ...,   1.,   0.,   0.],\n",
       "        [211., -10.,  -1., ...,   1.,   0.,   0.],\n",
       "        ...,\n",
       "        [ 10., -20.,  -4., ...,   1.,   0.,   0.],\n",
       "        [ 11., -24.,  -5., ...,   1.,   0.,   0.],\n",
       "        [ 17., -27.,  -7., ...,   1.,   0.,   0.]],\n",
       "\n",
       "       [[ 18., -24.,  -6., ...,   1.,   0.,   0.],\n",
       "        [ 20., -24.,  -6., ...,   0.,   0.,   0.],\n",
       "        [ 26., -24.,  -5., ...,   1.,   0.,   0.],\n",
       "        ...,\n",
       "        [ 36., -16.,  -4., ...,   1.,   0.,   0.],\n",
       "        [ 19., -17.,  -3., ...,   1.,   0.,   0.],\n",
       "        [ 20., -19.,  -2., ...,   1.,   0.,   0.]]])"
      ]
     },
     "execution_count": 17,
     "metadata": {},
     "output_type": "execute_result"
    }
   ],
   "source": [
    "# printing x variable\n",
    "x"
   ]
  },
  {
   "cell_type": "code",
   "execution_count": 18,
   "metadata": {
    "colab": {
     "base_uri": "https://localhost:8080/"
    },
    "execution": {
     "iopub.execute_input": "2021-11-29T16:48:41.713812Z",
     "iopub.status.busy": "2021-11-29T16:48:41.713025Z",
     "iopub.status.idle": "2021-11-29T16:48:41.722052Z",
     "shell.execute_reply": "2021-11-29T16:48:41.720684Z",
     "shell.execute_reply.started": "2021-11-29T16:48:41.713762Z"
    },
    "id": "3aWLGxuCkrWm",
    "outputId": "1a7e15ae-3096-4163-92da-34ae453d3030"
   },
   "outputs": [
    {
     "data": {
      "text/plain": [
       "array([ 97.,  74.,  24., ..., 196.,  23.,  59.])"
      ]
     },
     "execution_count": 18,
     "metadata": {},
     "output_type": "execute_result"
    }
   ],
   "source": [
    "# printing y variable\n",
    "y"
   ]
  },
  {
   "cell_type": "markdown",
   "metadata": {
    "id": "rtBCj5lfkrWn"
   },
   "source": [
    "## Spliting and Normalizing Data"
   ]
  },
  {
   "cell_type": "code",
   "execution_count": 19,
   "metadata": {
    "execution": {
     "iopub.execute_input": "2021-11-29T16:48:41.724954Z",
     "iopub.status.busy": "2021-11-29T16:48:41.724106Z",
     "iopub.status.idle": "2021-11-29T16:48:41.732655Z",
     "shell.execute_reply": "2021-11-29T16:48:41.731539Z",
     "shell.execute_reply.started": "2021-11-29T16:48:41.724906Z"
    },
    "id": "WBcfH_2YkrWn"
   },
   "outputs": [],
   "source": [
    "# Spliting data into train and test part\n",
    "split = int(y.shape[0]*0.8)\n",
    "train_x = x[:split]\n",
    "train_y = y[:split]\n",
    "test_x = x[split:]\n",
    "test_y = y[split:]"
   ]
  },
  {
   "cell_type": "markdown",
   "metadata": {
    "id": "-NU8z0VHkrWn"
   },
   "source": [
    "Slitted the data into 80, 20 ratio\n"
   ]
  },
  {
   "cell_type": "code",
   "execution_count": 20,
   "metadata": {
    "execution": {
     "iopub.execute_input": "2021-11-29T16:48:41.735388Z",
     "iopub.status.busy": "2021-11-29T16:48:41.734913Z",
     "iopub.status.idle": "2021-11-29T16:48:42.473012Z",
     "shell.execute_reply": "2021-11-29T16:48:42.471366Z",
     "shell.execute_reply.started": "2021-11-29T16:48:41.735340Z"
    },
    "id": "1XEQsyrkkrWn"
   },
   "outputs": [],
   "source": [
    "# Normalizing data with Standard Scaler Technique\n",
    "mean = train_x.mean(axis=0)\n",
    "std = train_x.std(axis=0)\n",
    "train_x = (train_x - mean) / std\n",
    "test_x = (test_x - mean) / std # Use the mean & std of train."
   ]
  },
  {
   "cell_type": "markdown",
   "metadata": {
    "id": "FxPpgvyVkrWo"
   },
   "source": [
    "Here I have normalized data using Standard Sclaer technique. I can also get this technique from sklearn library but that one is ony for 2D data but here we have converted data into 3D so that's why I'm doing it manually."
   ]
  },
  {
   "cell_type": "code",
   "execution_count": 21,
   "metadata": {},
   "outputs": [],
   "source": [
    "def evaluate_model(model):\n",
    "    # importing metrices to evaluate the model\n",
    "    from sklearn.metrics import mean_absolute_error, mean_squared_error, r2_score\n",
    "    \n",
    "    test_predict = model.predict(test_x)\n",
    "    \n",
    "    # Evaluating model\n",
    "    print(\"R2  :\", round(r2_score(test_y, test_predict), 2))\n",
    "    print(\"MAE :\", round(mean_absolute_error(test_y, test_predict), 2))\n",
    "    print(\"MSE :\", round(mean_squared_error(test_y, test_predict), 2))"
   ]
  },
  {
   "cell_type": "markdown",
   "metadata": {
    "id": "-71gALIPkrWp"
   },
   "source": [
    "## Building LSTM"
   ]
  },
  {
   "cell_type": "code",
   "execution_count": 22,
   "metadata": {},
   "outputs": [],
   "source": [
    "from sklearn.model_selection import GridSearchCV\n",
    "from tensorflow.keras.wrappers.scikit_learn import KerasClassifier"
   ]
  },
  {
   "cell_type": "code",
   "execution_count": 23,
   "metadata": {
    "colab": {
     "base_uri": "https://localhost:8080/"
    },
    "execution": {
     "iopub.execute_input": "2021-11-29T16:49:36.125132Z",
     "iopub.status.busy": "2021-11-29T16:49:36.124364Z",
     "iopub.status.idle": "2021-11-29T16:49:36.970090Z",
     "shell.execute_reply": "2021-11-29T16:49:36.969131Z",
     "shell.execute_reply.started": "2021-11-29T16:49:36.125085Z"
    },
    "id": "iUpJwVDtkrWq",
    "outputId": "58409863-44ce-4602-80d5-9be236bbb0b3"
   },
   "outputs": [],
   "source": [
    "loss = 'mae'\n",
    "optimizer = 'adam'\n",
    "metric = [\"mse\"]\n",
    "\n",
    "def build_model():\n",
    "    # Creating LSTM Model with multiple hidden layers to go deep down\n",
    "    model = keras.Sequential()\n",
    "    model.add(layers.LSTM(32, input_shape=(120, 11), return_sequences=True)) \n",
    "    model.add(layers.LSTM(32, return_sequences=True)) \n",
    "    model.add(layers.LSTM(32)) \n",
    "    model.add(layers.Dense(1))\n",
    "    model.compile(optimizer=optimizer, loss=loss, metrics=metric)\n",
    "    return model"
   ]
  },
  {
   "cell_type": "markdown",
   "metadata": {},
   "source": [
    "Here I built a medium level LSTM model. This LSTM model has 4 layers.\n",
    "- First LSTM layer as input layer with 32 neurons.\n",
    "- Second and third LSTM layer as hidden layers with 32 neurons each.\n",
    "- 4th last Dense layer as output layer with 1 neuron"
   ]
  },
  {
   "cell_type": "code",
   "execution_count": 24,
   "metadata": {},
   "outputs": [],
   "source": [
    "model = KerasClassifier(build_fn=build_model)\n",
    "params = dict(batch_size=[2, 3, 6], epochs=[128, 256, 400])\n",
    "grid = GridSearchCV(estimator=model, param_grid=params, n_jobs=-1, cv=1)\n",
    "# grid.fit(train_x, train_y)\n",
    "# grid.best_params_"
   ]
  },
  {
   "cell_type": "code",
   "execution_count": 25,
   "metadata": {
    "execution": {
     "iopub.execute_input": "2021-11-29T16:49:36.973268Z",
     "iopub.status.busy": "2021-11-29T16:49:36.972807Z",
     "iopub.status.idle": "2021-11-29T16:49:36.980587Z",
     "shell.execute_reply": "2021-11-29T16:49:36.979180Z",
     "shell.execute_reply.started": "2021-11-29T16:49:36.973220Z"
    },
    "id": "z0jtkc_AkrWq"
   },
   "outputs": [],
   "source": [
    "# Creating final model\n",
    "model = build_model()\n",
    "\n",
    "# Setting call back\n",
    "lr_reduced = keras.callbacks.ReduceLROnPlateau('val_loss', patience=3, factor=0.5, min_lr=0.00001)"
   ]
  },
  {
   "cell_type": "code",
   "execution_count": 26,
   "metadata": {
    "colab": {
     "base_uri": "https://localhost:8080/"
    },
    "execution": {
     "iopub.execute_input": "2021-11-29T16:49:36.982531Z",
     "iopub.status.busy": "2021-11-29T16:49:36.982070Z",
     "iopub.status.idle": "2021-11-29T17:10:28.670612Z",
     "shell.execute_reply": "2021-11-29T17:10:28.669686Z",
     "shell.execute_reply.started": "2021-11-29T16:49:36.982489Z"
    },
    "id": "iU7hYOMZkrWr",
    "outputId": "3ca9d615-865e-42dc-bbf1-4e6a6061611d",
    "scrolled": true
   },
   "outputs": [
    {
     "name": "stdout",
     "output_type": "stream",
     "text": [
      "Epoch 1/150\n",
      "273/273 [==============================] - 60s 204ms/step - loss: 89.0665 - mse: 16316.5186 - val_loss: 82.2469 - val_mse: 14646.4326\n",
      "Epoch 2/150\n",
      "273/273 [==============================] - 57s 211ms/step - loss: 81.4169 - mse: 14695.5713 - val_loss: 77.0405 - val_mse: 13425.0791\n",
      "Epoch 3/150\n",
      "273/273 [==============================] - 55s 202ms/step - loss: 77.0068 - mse: 13582.4336 - val_loss: 73.3753 - val_mse: 12449.3887\n",
      "Epoch 4/150\n",
      "273/273 [==============================] - 54s 197ms/step - loss: 73.7373 - mse: 12661.0264 - val_loss: 70.5675 - val_mse: 11634.8076\n",
      "Epoch 5/150\n",
      "273/273 [==============================] - 58s 213ms/step - loss: 71.2273 - mse: 11890.8174 - val_loss: 68.4696 - val_mse: 10959.0303\n",
      "Epoch 6/150\n",
      "273/273 [==============================] - 53s 195ms/step - loss: 69.3606 - mse: 11259.3154 - val_loss: 66.9800 - val_mse: 10414.7773\n",
      "Epoch 7/150\n",
      "273/273 [==============================] - 53s 194ms/step - loss: 68.0221 - mse: 10748.1895 - val_loss: 65.9687 - val_mse: 9978.3984\n",
      "Epoch 8/150\n",
      "273/273 [==============================] - 54s 198ms/step - loss: 67.0772 - mse: 10343.4590 - val_loss: 65.2891 - val_mse: 9632.1699\n",
      "Epoch 9/150\n",
      "273/273 [==============================] - 53s 193ms/step - loss: 66.4196 - mse: 10012.5869 - val_loss: 64.8379 - val_mse: 9352.7783\n",
      "Epoch 10/150\n",
      "273/273 [==============================] - 57s 209ms/step - loss: 65.9847 - mse: 9755.6406 - val_loss: 64.5653 - val_mse: 9135.2939\n",
      "Epoch 11/150\n",
      "273/273 [==============================] - 53s 193ms/step - loss: 65.7091 - mse: 9549.2100 - val_loss: 64.4249 - val_mse: 8974.3916\n",
      "Epoch 12/150\n",
      "273/273 [==============================] - 52s 191ms/step - loss: 65.5476 - mse: 9405.4141 - val_loss: 64.3592 - val_mse: 8858.0068\n",
      "Epoch 13/150\n",
      "273/273 [==============================] - 53s 193ms/step - loss: 65.4615 - mse: 9298.2910 - val_loss: 64.3383 - val_mse: 8777.0791\n",
      "Epoch 14/150\n",
      "273/273 [==============================] - 57s 211ms/step - loss: 65.4226 - mse: 9224.4424 - val_loss: 64.3380 - val_mse: 8720.4199\n",
      "Epoch 15/150\n",
      "273/273 [==============================] - 53s 193ms/step - loss: 65.4052 - mse: 9186.5898 - val_loss: 64.3452 - val_mse: 8683.6270\n",
      "Epoch 16/150\n",
      "273/273 [==============================] - 53s 193ms/step - loss: 63.9798 - mse: 9112.8145 - val_loss: 61.4054 - val_mse: 8480.0264\n",
      "Epoch 17/150\n",
      "273/273 [==============================] - 72s 264ms/step - loss: 61.4594 - mse: 8719.5176 - val_loss: 59.9511 - val_mse: 8035.0894\n",
      "Epoch 18/150\n",
      "273/273 [==============================] - 68s 250ms/step - loss: 59.8661 - mse: 8360.4824 - val_loss: 58.6478 - val_mse: 7699.2480\n",
      "Epoch 19/150\n",
      "273/273 [==============================] - 67s 247ms/step - loss: 58.3795 - mse: 8062.3711 - val_loss: 57.0591 - val_mse: 7590.6133\n",
      "Epoch 20/150\n",
      "273/273 [==============================] - 74s 269ms/step - loss: 56.7484 - mse: 7804.5156 - val_loss: 56.1204 - val_mse: 7411.4717\n",
      "Epoch 21/150\n",
      "273/273 [==============================] - 77s 282ms/step - loss: 55.3958 - mse: 7558.4404 - val_loss: 54.5689 - val_mse: 7056.2021\n",
      "Epoch 22/150\n",
      "273/273 [==============================] - 68s 250ms/step - loss: 53.7426 - mse: 7256.7671 - val_loss: 52.7592 - val_mse: 6825.6040\n",
      "Epoch 23/150\n",
      "273/273 [==============================] - 68s 249ms/step - loss: 53.7800 - mse: 7193.9111 - val_loss: 53.5920 - val_mse: 6710.9497\n",
      "Epoch 24/150\n",
      "273/273 [==============================] - 71s 259ms/step - loss: 52.6404 - mse: 7011.3916 - val_loss: 51.2833 - val_mse: 6362.5918\n",
      "Epoch 25/150\n",
      "273/273 [==============================] - 71s 261ms/step - loss: 51.4553 - mse: 6762.2720 - val_loss: 49.9639 - val_mse: 6168.4517\n",
      "Epoch 26/150\n",
      "273/273 [==============================] - 71s 261ms/step - loss: 49.5976 - mse: 6405.7920 - val_loss: 48.6496 - val_mse: 5939.7114\n",
      "Epoch 27/150\n",
      "273/273 [==============================] - 72s 263ms/step - loss: 48.3749 - mse: 6155.9937 - val_loss: 47.8821 - val_mse: 5725.7812\n",
      "Epoch 28/150\n",
      "273/273 [==============================] - 71s 261ms/step - loss: 47.2128 - mse: 5939.0522 - val_loss: 46.1501 - val_mse: 5506.3159\n",
      "Epoch 29/150\n",
      "273/273 [==============================] - 71s 260ms/step - loss: 46.2813 - mse: 5785.6948 - val_loss: 45.8570 - val_mse: 5400.1084\n",
      "Epoch 30/150\n",
      "273/273 [==============================] - 71s 262ms/step - loss: 45.8835 - mse: 5627.9448 - val_loss: 44.7015 - val_mse: 5182.4790\n",
      "Epoch 31/150\n",
      "273/273 [==============================] - 72s 264ms/step - loss: 44.3340 - mse: 5404.9731 - val_loss: 46.0258 - val_mse: 5687.2920\n",
      "Epoch 32/150\n",
      "273/273 [==============================] - 71s 261ms/step - loss: 43.6216 - mse: 5247.2798 - val_loss: 43.2448 - val_mse: 4961.3887\n",
      "Epoch 33/150\n",
      "273/273 [==============================] - 71s 260ms/step - loss: 42.9064 - mse: 5108.9102 - val_loss: 44.4911 - val_mse: 5063.4194\n",
      "Epoch 34/150\n",
      "273/273 [==============================] - 74s 272ms/step - loss: 43.9095 - mse: 5267.0322 - val_loss: 43.7629 - val_mse: 4879.1396\n",
      "Epoch 35/150\n",
      "273/273 [==============================] - 73s 266ms/step - loss: 42.0463 - mse: 4920.3496 - val_loss: 42.5645 - val_mse: 4762.8003\n",
      "Epoch 36/150\n",
      "273/273 [==============================] - 81s 295ms/step - loss: 41.0957 - mse: 4725.3369 - val_loss: 41.2657 - val_mse: 4548.8408\n",
      "Epoch 37/150\n",
      "273/273 [==============================] - 80s 293ms/step - loss: 39.9733 - mse: 4559.6401 - val_loss: 39.5661 - val_mse: 4276.2734\n",
      "Epoch 38/150\n",
      "273/273 [==============================] - 85s 310ms/step - loss: 39.6049 - mse: 4516.8076 - val_loss: 39.5832 - val_mse: 4251.7871\n",
      "Epoch 39/150\n",
      "273/273 [==============================] - 81s 296ms/step - loss: 38.7883 - mse: 4341.8501 - val_loss: 39.4264 - val_mse: 4204.2061\n",
      "Epoch 40/150\n",
      "273/273 [==============================] - 85s 310ms/step - loss: 38.8749 - mse: 4399.5615 - val_loss: 46.1890 - val_mse: 5496.4824\n",
      "Epoch 41/150\n",
      "273/273 [==============================] - 87s 319ms/step - loss: 39.7621 - mse: 4569.8809 - val_loss: 37.9679 - val_mse: 3995.7522\n",
      "Epoch 42/150\n",
      "273/273 [==============================] - 91s 334ms/step - loss: 37.4803 - mse: 4116.5010 - val_loss: 37.4123 - val_mse: 3811.7712\n",
      "Epoch 43/150\n",
      "273/273 [==============================] - 101s 371ms/step - loss: 36.0566 - mse: 3893.7249 - val_loss: 37.1145 - val_mse: 3812.4106\n",
      "Epoch 44/150\n",
      "273/273 [==============================] - 98s 358ms/step - loss: 36.4685 - mse: 3978.2673 - val_loss: 36.5584 - val_mse: 3735.1902\n",
      "Epoch 45/150\n",
      "273/273 [==============================] - 100s 366ms/step - loss: 35.0448 - mse: 3710.0637 - val_loss: 35.9494 - val_mse: 3495.4968\n",
      "Epoch 46/150\n",
      "273/273 [==============================] - 90s 331ms/step - loss: 34.7391 - mse: 3626.9290 - val_loss: 36.1025 - val_mse: 3596.6523\n",
      "Epoch 47/150\n",
      "273/273 [==============================] - 65s 236ms/step - loss: 34.3773 - mse: 3550.3508 - val_loss: 37.7087 - val_mse: 3747.6240\n",
      "Epoch 48/150\n",
      "273/273 [==============================] - 75s 273ms/step - loss: 34.4672 - mse: 3569.8274 - val_loss: 33.9354 - val_mse: 3296.1023\n",
      "Epoch 49/150\n",
      "273/273 [==============================] - 67s 247ms/step - loss: 32.8633 - mse: 3342.8560 - val_loss: 36.3110 - val_mse: 3530.7119\n",
      "Epoch 50/150\n",
      "273/273 [==============================] - 56s 206ms/step - loss: 32.7908 - mse: 3322.1514 - val_loss: 34.8982 - val_mse: 3347.0056\n",
      "Epoch 51/150\n",
      "273/273 [==============================] - 60s 219ms/step - loss: 32.3967 - mse: 3226.8523 - val_loss: 32.9730 - val_mse: 3112.6077\n",
      "Epoch 52/150\n",
      "273/273 [==============================] - 52s 190ms/step - loss: 32.3476 - mse: 3228.4341 - val_loss: 33.1233 - val_mse: 3145.8853\n",
      "Epoch 53/150\n",
      "273/273 [==============================] - 52s 189ms/step - loss: 31.6516 - mse: 3148.1667 - val_loss: 32.2390 - val_mse: 3017.0286\n",
      "Epoch 54/150\n",
      "273/273 [==============================] - 56s 206ms/step - loss: 30.9660 - mse: 3041.8662 - val_loss: 31.6266 - val_mse: 2902.5535\n",
      "Epoch 55/150\n",
      "273/273 [==============================] - 52s 192ms/step - loss: 30.9930 - mse: 3039.7253 - val_loss: 32.5542 - val_mse: 2970.6785\n",
      "Epoch 56/150\n",
      "273/273 [==============================] - 74s 270ms/step - loss: 31.8502 - mse: 3132.9155 - val_loss: 33.1458 - val_mse: 3076.7485\n",
      "Epoch 57/150\n",
      "273/273 [==============================] - 61s 224ms/step - loss: 30.4138 - mse: 2907.7363 - val_loss: 31.3242 - val_mse: 2810.0901\n",
      "Epoch 58/150\n",
      "273/273 [==============================] - 72s 265ms/step - loss: 32.2377 - mse: 3283.1433 - val_loss: 32.5725 - val_mse: 3088.5752\n",
      "Epoch 59/150\n",
      "273/273 [==============================] - 63s 232ms/step - loss: 30.0938 - mse: 2911.2788 - val_loss: 30.5191 - val_mse: 2747.7173\n",
      "Epoch 60/150\n",
      "273/273 [==============================] - 63s 230ms/step - loss: 31.6068 - mse: 3144.9160 - val_loss: 38.3019 - val_mse: 4010.1521\n",
      "Epoch 61/150\n",
      "273/273 [==============================] - 53s 193ms/step - loss: 36.5794 - mse: 3896.3889 - val_loss: 33.9002 - val_mse: 3197.7581\n",
      "Epoch 62/150\n",
      "273/273 [==============================] - 63s 229ms/step - loss: 30.8530 - mse: 2994.2732 - val_loss: 31.2166 - val_mse: 2840.4248\n",
      "Epoch 63/150\n",
      "273/273 [==============================] - 65s 237ms/step - loss: 28.3743 - mse: 2687.1450 - val_loss: 29.6959 - val_mse: 2676.2666\n",
      "Epoch 64/150\n",
      "273/273 [==============================] - 67s 245ms/step - loss: 27.9541 - mse: 2602.8579 - val_loss: 28.9416 - val_mse: 2565.1855\n",
      "Epoch 65/150\n",
      "273/273 [==============================] - 59s 214ms/step - loss: 27.2335 - mse: 2498.4539 - val_loss: 28.7037 - val_mse: 2520.7388\n",
      "Epoch 66/150\n",
      "273/273 [==============================] - 62s 227ms/step - loss: 28.0241 - mse: 2589.2622 - val_loss: 31.5184 - val_mse: 2780.6316\n",
      "Epoch 67/150\n",
      "273/273 [==============================] - 63s 229ms/step - loss: 29.6623 - mse: 2768.9602 - val_loss: 33.6087 - val_mse: 3070.9143\n",
      "Epoch 68/150\n",
      "273/273 [==============================] - 66s 242ms/step - loss: 28.8614 - mse: 2636.6201 - val_loss: 29.5475 - val_mse: 2578.5696\n",
      "Epoch 69/150\n",
      "273/273 [==============================] - 58s 211ms/step - loss: 26.5753 - mse: 2395.8943 - val_loss: 28.5445 - val_mse: 2448.8796\n",
      "Epoch 70/150\n",
      "273/273 [==============================] - 77s 282ms/step - loss: 25.9797 - mse: 2329.1897 - val_loss: 28.0556 - val_mse: 2388.0928\n",
      "Epoch 71/150\n",
      "273/273 [==============================] - 71s 261ms/step - loss: 25.9804 - mse: 2324.0891 - val_loss: 27.9320 - val_mse: 2395.3389\n",
      "Epoch 72/150\n",
      "273/273 [==============================] - 64s 234ms/step - loss: 25.4765 - mse: 2260.9116 - val_loss: 27.5416 - val_mse: 2324.7761\n",
      "Epoch 73/150\n",
      "273/273 [==============================] - 67s 247ms/step - loss: 25.0143 - mse: 2194.7041 - val_loss: 27.2167 - val_mse: 2258.5630\n",
      "Epoch 74/150\n",
      "273/273 [==============================] - 75s 274ms/step - loss: 24.8256 - mse: 2183.1804 - val_loss: 27.0749 - val_mse: 2249.6726\n",
      "Epoch 75/150\n",
      "273/273 [==============================] - 74s 269ms/step - loss: 24.6049 - mse: 2150.7263 - val_loss: 26.8825 - val_mse: 2249.5999\n",
      "Epoch 76/150\n",
      "273/273 [==============================] - 66s 243ms/step - loss: 24.5489 - mse: 2137.7654 - val_loss: 26.6251 - val_mse: 2191.1831\n",
      "Epoch 77/150\n",
      "273/273 [==============================] - 68s 251ms/step - loss: 24.2915 - mse: 2113.3591 - val_loss: 26.6773 - val_mse: 2202.6704\n",
      "Epoch 78/150\n",
      "273/273 [==============================] - 67s 246ms/step - loss: 24.2245 - mse: 2121.5552 - val_loss: 26.5397 - val_mse: 2180.8408\n",
      "Epoch 79/150\n",
      "273/273 [==============================] - 74s 270ms/step - loss: 24.2183 - mse: 2111.6323 - val_loss: 26.4362 - val_mse: 2187.1614\n",
      "Epoch 80/150\n",
      "273/273 [==============================] - 69s 254ms/step - loss: 23.9350 - mse: 2073.1023 - val_loss: 26.2188 - val_mse: 2136.1509\n",
      "Epoch 81/150\n",
      "273/273 [==============================] - 69s 254ms/step - loss: 23.8752 - mse: 2077.5684 - val_loss: 26.0230 - val_mse: 2138.9685\n",
      "Epoch 82/150\n",
      "273/273 [==============================] - 70s 256ms/step - loss: 23.6698 - mse: 2045.7118 - val_loss: 25.8144 - val_mse: 2069.3069\n",
      "Epoch 83/150\n",
      "273/273 [==============================] - 71s 260ms/step - loss: 23.5996 - mse: 2042.0854 - val_loss: 25.7865 - val_mse: 2122.8711\n",
      "Epoch 84/150\n",
      "273/273 [==============================] - 69s 254ms/step - loss: 23.5814 - mse: 2053.0483 - val_loss: 25.7157 - val_mse: 2106.7603\n",
      "Epoch 85/150\n",
      "273/273 [==============================] - 58s 212ms/step - loss: 23.4243 - mse: 2023.8926 - val_loss: 25.7305 - val_mse: 2085.5237\n",
      "Epoch 86/150\n",
      "273/273 [==============================] - 74s 272ms/step - loss: 23.4063 - mse: 2016.1597 - val_loss: 25.4818 - val_mse: 2037.4388\n",
      "Epoch 87/150\n",
      "273/273 [==============================] - 66s 243ms/step - loss: 23.5216 - mse: 2037.9493 - val_loss: 26.3954 - val_mse: 2155.3027\n",
      "Epoch 88/150\n",
      "273/273 [==============================] - 72s 264ms/step - loss: 23.2624 - mse: 2002.7234 - val_loss: 25.2599 - val_mse: 2033.7146\n",
      "Epoch 89/150\n",
      "273/273 [==============================] - 57s 210ms/step - loss: 22.9430 - mse: 1964.7260 - val_loss: 25.2188 - val_mse: 2022.0543\n",
      "Epoch 90/150\n",
      "273/273 [==============================] - 60s 221ms/step - loss: 22.8582 - mse: 1935.7505 - val_loss: 25.1852 - val_mse: 1994.9788\n",
      "Epoch 91/150\n",
      "273/273 [==============================] - 55s 200ms/step - loss: 22.5718 - mse: 1912.3418 - val_loss: 24.9656 - val_mse: 1997.8578\n",
      "Epoch 92/150\n",
      "273/273 [==============================] - 54s 200ms/step - loss: 22.6391 - mse: 1914.9678 - val_loss: 24.8684 - val_mse: 1980.8152\n",
      "Epoch 93/150\n",
      "273/273 [==============================] - 53s 194ms/step - loss: 22.8642 - mse: 1929.4946 - val_loss: 25.1154 - val_mse: 1984.1064\n",
      "Epoch 94/150\n",
      "273/273 [==============================] - 58s 214ms/step - loss: 22.4683 - mse: 1883.2330 - val_loss: 24.9861 - val_mse: 1975.3486\n",
      "Epoch 95/150\n",
      "273/273 [==============================] - 54s 199ms/step - loss: 22.5902 - mse: 1906.0525 - val_loss: 24.9081 - val_mse: 1945.4803\n",
      "Epoch 96/150\n",
      "273/273 [==============================] - 54s 199ms/step - loss: 21.8850 - mse: 1828.8655 - val_loss: 24.4299 - val_mse: 1918.2896\n",
      "Epoch 97/150\n",
      "273/273 [==============================] - 53s 196ms/step - loss: 21.7720 - mse: 1819.3838 - val_loss: 24.4096 - val_mse: 1918.9915\n",
      "Epoch 98/150\n",
      "273/273 [==============================] - 58s 213ms/step - loss: 21.6279 - mse: 1815.5266 - val_loss: 24.3204 - val_mse: 1910.6089\n",
      "Epoch 99/150\n",
      "273/273 [==============================] - 53s 196ms/step - loss: 21.6209 - mse: 1809.8864 - val_loss: 24.1862 - val_mse: 1896.3990\n",
      "Epoch 100/150\n",
      "273/273 [==============================] - 53s 195ms/step - loss: 21.5023 - mse: 1795.4491 - val_loss: 24.2276 - val_mse: 1910.9659\n",
      "Epoch 101/150\n",
      "273/273 [==============================] - 55s 200ms/step - loss: 21.4374 - mse: 1791.5153 - val_loss: 24.1515 - val_mse: 1890.0293\n",
      "Epoch 102/150\n",
      "273/273 [==============================] - 58s 212ms/step - loss: 21.3843 - mse: 1780.2841 - val_loss: 24.1272 - val_mse: 1881.8195\n",
      "Epoch 103/150\n",
      "273/273 [==============================] - 55s 202ms/step - loss: 21.3658 - mse: 1775.6793 - val_loss: 24.0961 - val_mse: 1868.0017\n",
      "Epoch 104/150\n",
      "273/273 [==============================] - 53s 196ms/step - loss: 21.2584 - mse: 1766.7485 - val_loss: 23.9788 - val_mse: 1865.9479\n",
      "Epoch 105/150\n",
      "273/273 [==============================] - 58s 213ms/step - loss: 21.3384 - mse: 1787.5323 - val_loss: 23.9801 - val_mse: 1856.1619\n",
      "Epoch 106/150\n",
      "273/273 [==============================] - 53s 194ms/step - loss: 21.2370 - mse: 1769.7933 - val_loss: 23.9714 - val_mse: 1866.2694\n",
      "Epoch 107/150\n",
      "273/273 [==============================] - 54s 198ms/step - loss: 21.9495 - mse: 1862.6874 - val_loss: 24.1468 - val_mse: 1888.7352\n",
      "Epoch 108/150\n",
      "273/273 [==============================] - 59s 215ms/step - loss: 21.2889 - mse: 1794.6808 - val_loss: 23.9173 - val_mse: 1867.6842\n",
      "Epoch 109/150\n",
      "273/273 [==============================] - 53s 194ms/step - loss: 21.0748 - mse: 1761.9475 - val_loss: 23.8340 - val_mse: 1864.1735\n",
      "Epoch 110/150\n",
      "273/273 [==============================] - 54s 197ms/step - loss: 21.0190 - mse: 1750.0668 - val_loss: 23.7658 - val_mse: 1830.3900\n",
      "Epoch 111/150\n",
      "273/273 [==============================] - 53s 195ms/step - loss: 20.8975 - mse: 1734.2670 - val_loss: 23.7101 - val_mse: 1832.6028\n",
      "Epoch 112/150\n",
      "273/273 [==============================] - 55s 203ms/step - loss: 21.0285 - mse: 1745.9833 - val_loss: 23.7244 - val_mse: 1828.3367\n",
      "Epoch 113/150\n",
      "273/273 [==============================] - 55s 200ms/step - loss: 20.9117 - mse: 1731.2681 - val_loss: 23.5588 - val_mse: 1813.3208\n",
      "Epoch 114/150\n",
      "273/273 [==============================] - 54s 199ms/step - loss: 20.8662 - mse: 1728.3854 - val_loss: 23.6158 - val_mse: 1837.0869\n",
      "Epoch 115/150\n",
      "273/273 [==============================] - 54s 199ms/step - loss: 20.8343 - mse: 1727.4626 - val_loss: 23.6719 - val_mse: 1829.3390\n",
      "Epoch 116/150\n",
      "273/273 [==============================] - 55s 201ms/step - loss: 20.8652 - mse: 1723.9293 - val_loss: 23.4220 - val_mse: 1798.4021\n",
      "Epoch 117/150\n",
      "273/273 [==============================] - 52s 190ms/step - loss: 20.7509 - mse: 1715.1182 - val_loss: 23.4534 - val_mse: 1798.1083\n",
      "Epoch 118/150\n",
      "273/273 [==============================] - 56s 207ms/step - loss: 20.6458 - mse: 1705.4589 - val_loss: 23.5428 - val_mse: 1797.0465\n",
      "Epoch 119/150\n",
      "273/273 [==============================] - 53s 194ms/step - loss: 20.6439 - mse: 1699.5331 - val_loss: 23.5172 - val_mse: 1821.6923\n",
      "Epoch 120/150\n",
      "273/273 [==============================] - 53s 195ms/step - loss: 20.4205 - mse: 1681.9917 - val_loss: 23.2785 - val_mse: 1773.3688\n",
      "Epoch 121/150\n",
      "273/273 [==============================] - 52s 191ms/step - loss: 20.3270 - mse: 1675.7900 - val_loss: 23.2156 - val_mse: 1765.6532\n",
      "Epoch 122/150\n",
      "273/273 [==============================] - 52s 192ms/step - loss: 20.2888 - mse: 1672.6749 - val_loss: 23.2077 - val_mse: 1766.7827\n",
      "Epoch 123/150\n",
      "273/273 [==============================] - 57s 210ms/step - loss: 20.3210 - mse: 1675.1571 - val_loss: 23.2161 - val_mse: 1764.4680\n",
      "Epoch 124/150\n",
      "273/273 [==============================] - 53s 194ms/step - loss: 20.2577 - mse: 1663.1937 - val_loss: 23.1312 - val_mse: 1754.2244\n",
      "Epoch 125/150\n",
      "273/273 [==============================] - 53s 194ms/step - loss: 20.2400 - mse: 1666.1470 - val_loss: 23.2000 - val_mse: 1773.3313\n",
      "Epoch 126/150\n",
      "273/273 [==============================] - 54s 198ms/step - loss: 20.1741 - mse: 1659.4297 - val_loss: 23.1154 - val_mse: 1752.5388\n",
      "Epoch 127/150\n",
      "273/273 [==============================] - 55s 201ms/step - loss: 20.1065 - mse: 1653.0763 - val_loss: 23.1379 - val_mse: 1773.2336\n",
      "Epoch 128/150\n",
      "273/273 [==============================] - 53s 193ms/step - loss: 20.1202 - mse: 1652.4558 - val_loss: 23.0990 - val_mse: 1755.2631\n",
      "Epoch 129/150\n",
      "273/273 [==============================] - 56s 205ms/step - loss: 20.0721 - mse: 1646.5568 - val_loss: 23.2308 - val_mse: 1771.7820\n",
      "Epoch 130/150\n",
      "273/273 [==============================] - 53s 193ms/step - loss: 20.0219 - mse: 1641.0436 - val_loss: 23.0747 - val_mse: 1748.1108\n",
      "Epoch 131/150\n",
      "273/273 [==============================] - 53s 193ms/step - loss: 20.0366 - mse: 1644.3778 - val_loss: 23.0841 - val_mse: 1752.8496\n",
      "Epoch 132/150\n",
      "273/273 [==============================] - 52s 191ms/step - loss: 19.9999 - mse: 1641.9445 - val_loss: 23.0460 - val_mse: 1747.2485\n",
      "Epoch 133/150\n",
      "273/273 [==============================] - 52s 192ms/step - loss: 19.9897 - mse: 1637.5771 - val_loss: 23.0387 - val_mse: 1744.2466\n",
      "Epoch 134/150\n",
      "273/273 [==============================] - 55s 203ms/step - loss: 19.9634 - mse: 1634.5731 - val_loss: 23.0722 - val_mse: 1750.2119\n",
      "Epoch 135/150\n",
      "273/273 [==============================] - 55s 201ms/step - loss: 19.9497 - mse: 1631.9723 - val_loss: 23.0504 - val_mse: 1753.1757\n",
      "Epoch 136/150\n",
      "273/273 [==============================] - 53s 194ms/step - loss: 19.9411 - mse: 1629.9254 - val_loss: 22.9972 - val_mse: 1735.7657\n",
      "Epoch 137/150\n",
      "273/273 [==============================] - 55s 201ms/step - loss: 19.8921 - mse: 1624.6008 - val_loss: 22.9745 - val_mse: 1739.7617\n",
      "Epoch 138/150\n",
      "273/273 [==============================] - 54s 198ms/step - loss: 19.8782 - mse: 1624.0632 - val_loss: 22.9525 - val_mse: 1741.3916\n",
      "Epoch 139/150\n",
      "273/273 [==============================] - 53s 194ms/step - loss: 19.8919 - mse: 1631.0685 - val_loss: 23.0020 - val_mse: 1741.2268\n",
      "Epoch 140/150\n",
      "273/273 [==============================] - 52s 192ms/step - loss: 19.8294 - mse: 1621.8114 - val_loss: 22.9610 - val_mse: 1736.6025\n",
      "Epoch 141/150\n",
      "273/273 [==============================] - 57s 208ms/step - loss: 19.8213 - mse: 1618.3252 - val_loss: 22.8144 - val_mse: 1719.2390 \n",
      "Epoch 142/150\n",
      "273/273 [==============================] - 52s 191ms/step - loss: 19.8499 - mse: 1630.4425 - val_loss: 22.9288 - val_mse: 1731.7538\n",
      "Epoch 143/150\n",
      "273/273 [==============================] - 53s 195ms/step - loss: 19.7757 - mse: 1622.8157 - val_loss: 22.9618 - val_mse: 1737.1602\n",
      "Epoch 144/150\n",
      "273/273 [==============================] - 53s 194ms/step - loss: 19.7473 - mse: 1615.9653 - val_loss: 22.9644 - val_mse: 1734.1158\n",
      "Epoch 145/150\n",
      "273/273 [==============================] - 53s 193ms/step - loss: 19.6301 - mse: 1608.6761 - val_loss: 22.8313 - val_mse: 1729.9303\n",
      "Epoch 146/150\n",
      "273/273 [==============================] - 58s 212ms/step - loss: 19.5734 - mse: 1601.1367 - val_loss: 22.8160 - val_mse: 1722.4850\n",
      "Epoch 147/150\n",
      "273/273 [==============================] - 54s 198ms/step - loss: 19.5394 - mse: 1596.8134 - val_loss: 22.8379 - val_mse: 1720.9590\n",
      "Epoch 148/150\n",
      "273/273 [==============================] - 52s 192ms/step - loss: 19.4747 - mse: 1592.6241 - val_loss: 22.7790 - val_mse: 1717.3827\n",
      "Epoch 149/150\n",
      "273/273 [==============================] - 54s 197ms/step - loss: 19.4372 - mse: 1591.8539 - val_loss: 22.7931 - val_mse: 1723.0881\n",
      "Epoch 150/150\n",
      "273/273 [==============================] - 57s 207ms/step - loss: 19.4306 - mse: 1591.4713 - val_loss: 22.8006 - val_mse: 1722.9449\n"
     ]
    }
   ],
   "source": [
    "# Tuning Final model\n",
    "history = model.fit(train_x, train_y, batch_size=128, epochs=150, validation_data=(test_x, test_y), callbacks=[lr_reduced])"
   ]
  },
  {
   "cell_type": "markdown",
   "metadata": {
    "id": "sFPjlqe_krWr"
   },
   "source": [
    "Here I have comiled and fit the model for 150 epochs using the defined learning rate."
   ]
  },
  {
   "cell_type": "code",
   "execution_count": 27,
   "metadata": {
    "colab": {
     "base_uri": "https://localhost:8080/",
     "height": 388
    },
    "execution": {
     "iopub.execute_input": "2021-11-29T17:10:28.672688Z",
     "iopub.status.busy": "2021-11-29T17:10:28.672238Z",
     "iopub.status.idle": "2021-11-29T17:10:28.901617Z",
     "shell.execute_reply": "2021-11-29T17:10:28.900326Z",
     "shell.execute_reply.started": "2021-11-29T17:10:28.672655Z"
    },
    "id": "QkHsLxAskrWs",
    "outputId": "61e7bedd-495a-4ce1-f381-b38c0426d242"
   },
   "outputs": [
    {
     "data": {
      "image/png": "[encoded data removed]",
      "text/plain": [
       "<Figure size 864x432 with 1 Axes>"
      ]
     },
     "metadata": {
      "needs_background": "light"
     },
     "output_type": "display_data"
    }
   ],
   "source": [
    "# Plotting Error of model\n",
    "plt.figure(figsize=(12, 6))\n",
    "plt.plot(history.epoch, history.history['loss'], c='m', label=\"Loss\")\n",
    "plt.plot(history.epoch, history.history['val_loss'], c='c', label=\"Val_Loss\")\n",
    "plt.xlabel(\"Number of Epochs\")\n",
    "plt.ylabel(\"Error\")\n",
    "plt.legend()\n",
    "plt.show()"
   ]
  },
  {
   "cell_type": "code",
   "execution_count": 28,
   "metadata": {
    "scrolled": true
   },
   "outputs": [
    {
     "name": "stdout",
     "output_type": "stream",
     "text": [
      "R2  : 0.79\n",
      "MAE : 22.8\n",
      "MSE : 1722.94\n"
     ]
    }
   ],
   "source": [
    "evaluate_model(model)"
   ]
  }
 ],
 "metadata": {
  "accelerator": "GPU",
  "colab": {
   "name": "Air Prediction (PM2.5).ipynb",
   "provenance": []
  },
  "kernelspec": {
   "display_name": "Python 3 (ipykernel)",
   "language": "python",
   "name": "python3"
  },
  "language_info": {
   "codemirror_mode": {
    "name": "ipython",
    "version": 3
   },
   "file_extension": ".py",
   "mimetype": "text/x-python",
   "name": "python",
   "nbconvert_exporter": "python",
   "pygments_lexer": "ipython3",
   "version": "3.9.7"
  }
 },
 "nbformat": 4,
 "nbformat_minor": 1
}
